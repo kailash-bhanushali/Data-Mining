{
 "cells": [
  {
   "cell_type": "markdown",
   "metadata": {},
   "source": [
    "# PA 2: Classification - Support Vector Machine"
   ]
  },
  {
   "cell_type": "markdown",
   "metadata": {},
   "source": [
    "## Student Details\n",
    "Student Name and ID: KAILASH SHANKAR BHANUSHALI / 1001398090\n",
    "\n",
    "Notes: When submitting, fill your name and ID in this cell.[1 point]\n",
    "\n",
    "Do not to forget to cite any external sources used by you."
   ]
  },
  {
   "cell_type": "markdown",
   "metadata": {},
   "source": [
    "## Programming Assignment Submission Instructions\n",
    "\n",
    "Step 5: Rename this submission file as 'yourLastName_Last4digitsofyourID_SVM.ipynb'. [1 point]\n",
    "\n",
    "Step 6: Place this file inside the folder 'PA#2_Classification_yourLastName_Option2' [1 point]"
   ]
  },
  {
   "cell_type": "markdown",
   "metadata": {},
   "source": [
    "## Programming Assignment Details\n",
    "\n",
    "Do not forget, this is an individual assignment!\n",
    "\n",
    "For this assignment use Jupyter notebook, Panda, and scikit.\n",
    "\n",
    "- Load wine dataset from sklearn datasets. [0 points]\n",
    "- Split your dataset 70% for training, and 30% for testing the classifier. [0 points]\n",
    "- Select only 2 attributes for training and testing your model. [2 points]\n",
    "- Use One-vs-One method. [1 points]\n",
    "- Try with a linear, and non-linear kernel polynomial=3 and Gaussian RBF. [6 points]\n",
    "- Use comments to explain your code and variable names.[2 points]\n",
    "- Calculate and print the confusion matrix, and the classification Report (includes: precision, recall, f1-score, and support) for linear and non-linear kernels. [6 points]\n",
    "- Plot the classifier in a 2D projection for linear and non-linear kernels. [3 points]"
   ]
  },
  {
   "cell_type": "markdown",
   "metadata": {},
   "source": [
    "## Report\n",
    "\n",
    "For each classification task you need to submit a report (Microsoft Word, or PDF) that you have to:\n",
    "- describe SVM method, [3 points]\n",
    "- What is a support vector? [3 points]\n",
    "- What is the difference between One-vs-One and One-vs-All method? [3 points]\n",
    "- explain what was your criteria for selecting the two attributes, [4 points]\n",
    "- Visualize SVM in a 2D projection for linear, and non-linear kernels. [6 points]\n",
    "- Interprete and compare the results. [6 points]\n",
    "\n",
    "Do not to forget to cite your sources!\n",
    "\n",
    "\n",
    "Step 7: Save your report file as 'yourLastName_Last4digitsofyourID_SVM.doc' [1 point]\n",
    "\n",
    "Step 8: Place this file inside the folder 'PA#2_Classification_yourLastName_Option2' [1 point]\n",
    "\n",
    "Step 9: Submit your zipped folder (PA#2_Classification_yourLastName_Option2.zip) on Blackboard"
   ]
  },
  {
   "cell_type": "markdown",
   "metadata": {},
   "source": [
    "# - - - - - - - - - - - - - - - Solution - - - - - - - - - - - - - - - - - - "
   ]
  },
  {
   "cell_type": "code",
   "execution_count": 1,
   "metadata": {},
   "outputs": [],
   "source": [
    "# import queries to get the dataset and packages so that to perform operation\n",
    "# also created the dataframe for the same\n",
    "import pandas as pd\n",
    "import numpy as np\n",
    "import warnings\n",
    "from sklearn import datasets,svm\n",
    "from sklearn.model_selection import train_test_split\n",
    "from sklearn.metrics import confusion_matrix\n",
    "import collections\n",
    "from sklearn.metrics import precision_recall_fscore_support\n",
    "from sklearn.feature_selection import SelectKBest\n",
    "from sklearn.feature_selection import chi2\n",
    "from sklearn.svm import SVC\n",
    "import matplotlib.pyplot as plt\n",
    "from mlxtend.plotting import plot_decision_regions\n",
    "from sklearn.metrics import classification_report\n",
    "from sklearn.multiclass import OneVsOneClassifier\n",
    "from sklearn.svm import LinearSVC\n",
    "data = datasets.load_wine()\n",
    "df_wine = pd.DataFrame(data.data, columns = data.feature_names)\n",
    "df_wine['target'] = pd.Series(data.target)"
   ]
  },
  {
   "cell_type": "code",
   "execution_count": 2,
   "metadata": {},
   "outputs": [],
   "source": [
    "label_names = data['target_names']\n",
    "labels = data['target']\n",
    "feature_names = data['feature_names']\n",
    "features = data['data']\n",
    "\n",
    "train, test, train_labels, test_labels = train_test_split(data['data'], data['target'], test_size=0.3)"
   ]
  },
  {
   "cell_type": "code",
   "execution_count": 3,
   "metadata": {},
   "outputs": [],
   "source": [
    "#To select the best out of it \n",
    "chi_square_test = SelectKBest(chi2, k=2)\n",
    "# to train and test the dataset\n",
    "# fit_transform : initial fitting of parameters on the training set x, but it also returns a transformed x′\n",
    "X_training = chi_square_test.fit_transform(train, train_labels)\n",
    "X_testing = chi_square_test.fit_transform(test, test_labels)\n",
    "chi_support = chi_square_test.get_support()\n",
    "# columns attribute name convert to list so that column name can be used further\n",
    "chi_feature = df_wine.loc[:,chi_support].columns.tolist()"
   ]
  },
  {
   "cell_type": "code",
   "execution_count": 4,
   "metadata": {},
   "outputs": [
    {
     "name": "stdout",
     "output_type": "stream",
     "text": [
      "The Attributes selected: color_intensity and the other one is  proline which is using Chi-sq\n"
     ]
    }
   ],
   "source": [
    "print(\"The Attributes selected: \"+chi_feature[0]+\" and the other one is  \"+chi_feature[1]+\" which is using Chi-sq\")"
   ]
  },
  {
   "cell_type": "code",
   "execution_count": 13,
   "metadata": {},
   "outputs": [],
   "source": [
    "# To get the column name and able to extract values further when required\n",
    "x=pd.DataFrame(X_training)\n",
    "Y=pd.DataFrame(train_labels)\n",
    "d=pd.concat([x, Y], axis=1, sort=False)\n",
    "d.columns = [chi_feature[0],chi_feature[1],'label']\n",
    "X = d[[chi_feature[0], chi_feature[1]]]\n",
    "y = d['label']"
   ]
  },
  {
   "cell_type": "code",
   "execution_count": 22,
   "metadata": {},
   "outputs": [
    {
     "name": "stdout",
     "output_type": "stream",
     "text": [
      " ----------------Linear kernel function------------------------\n"
     ]
    }
   ],
   "source": [
    "#Linear\n",
    "print(\" ----------------Linear kernel function------------------------\")\n",
    "\n"
   ]
  },
  {
   "cell_type": "code",
   "execution_count": 23,
   "metadata": {},
   "outputs": [],
   "source": [
    "#SVC is used for classification and regression analysis\n",
    "onev_linear = SVC(random_state=0, kernel = \"linear\", decision_function_shape = \"ovr\", degree = 3).fit(X_training,train_labels)\n",
    "#predict the outcome with the help of testing\n",
    "onev_linear_predicted=onev_linear.predict(X_testing)"
   ]
  },
  {
   "cell_type": "code",
   "execution_count": 18,
   "metadata": {},
   "outputs": [
    {
     "name": "stdout",
     "output_type": "stream",
     "text": [
      "[[16  2  1]\n",
      " [ 0 22  0]\n",
      " [ 0  0 13]]\n"
     ]
    }
   ],
   "source": [
    "\n",
    "# confusion matrix for linear kernel function\n",
    "confusionMatrix_linear = confusion_matrix(test_labels, onev_linear_predicted)\n",
    "print(confusionMatrix_linear)"
   ]
  },
  {
   "cell_type": "code",
   "execution_count": 39,
   "metadata": {},
   "outputs": [
    {
     "name": "stdout",
     "output_type": "stream",
     "text": [
      "The Precision for Linear Support vector machine is 0.9484126984126983\n",
      "The Recall for Linear Support vector machine is 0.9473684210526315\n",
      "The fscore for Linear Support vector machine is 0.9445901387930373\n",
      "The Support for Linear Support vector machine is None\n"
     ]
    }
   ],
   "source": [
    "#to calculate linear precision\n",
    "precision_linear_svm = precision_recall_fscore_support(test_labels, onev_linear_predicted, average='macro')\n",
    "print(\"The Precision for Linear Support vector machine is \" + str(precision_linear_svm[0]))\n",
    "print(\"The Recall for Linear Support vector machine is \" + str(precision_linear_svm[1]))\n",
    "print(\"The fscore for Linear Support vector machine is \" + str(precision_linear_svm[2]))\n",
    "print(\"The Support for Linear Support vector machine is \" + str(precision_linear_svm[3]))"
   ]
  },
  {
   "cell_type": "code",
   "execution_count": 20,
   "metadata": {},
   "outputs": [
    {
     "name": "stdout",
     "output_type": "stream",
     "text": [
      "              precision    recall  f1-score   support\n",
      "\n",
      "     class_0       1.00      0.84      0.91        19\n",
      "     class_1       0.92      1.00      0.96        22\n",
      "     class_2       0.93      1.00      0.96        13\n",
      "\n",
      "   micro avg       0.94      0.94      0.94        54\n",
      "   macro avg       0.95      0.95      0.94        54\n",
      "weighted avg       0.95      0.94      0.94        54\n",
      "\n"
     ]
    }
   ],
   "source": [
    "# to generate classification report for linear kernel function\n",
    "print(classification_report(test_labels,onev_linear_predicted, target_names=label_names))"
   ]
  },
  {
   "cell_type": "code",
   "execution_count": 14,
   "metadata": {},
   "outputs": [
    {
     "data": {
      "image/png": "[encoded data removed]",
      "text/plain": [
       "<Figure size 432x288 with 1 Axes>"
      ]
     },
     "metadata": {},
     "output_type": "display_data"
    }
   ],
   "source": [
    "# Plot Decision Region using mlxtend's awesome plotting function ...it is used for linear \n",
    "plot_decision_regions(X=X.values, \n",
    "                      y=y.values,\n",
    "                      clf=onev_linear,\n",
    "                      legend=2)\n",
    "\n",
    "# Update plot object with X/Y axis labels and Figure Title\n",
    "plt.xlabel(X.columns[0], size=14)\n",
    "plt.ylabel(X.columns[1], size=14)\n",
    "plt.title('support vector machines Decision Region Boundary for linear kernel function', size=18)\n",
    "plt.show()"
   ]
  },
  {
   "cell_type": "code",
   "execution_count": 15,
   "metadata": {},
   "outputs": [
    {
     "name": "stdout",
     "output_type": "stream",
     "text": [
      "------------------Non-Linear Kernel function------------------------\n"
     ]
    }
   ],
   "source": [
    "#Non-Linear\n",
    "print(\"------------------Non-Linear Kernel function------------------------\")\n",
    "\n"
   ]
  },
  {
   "cell_type": "code",
   "execution_count": 26,
   "metadata": {},
   "outputs": [],
   "source": [
    "#SVC is used for classification and regression analysis\n",
    "onev_nonlinear = SVC(kernel='rbf', random_state=0, gamma=0.0001,C=0.5, decision_function_shape = \"ovo\",shrinking=False,probability=False).fit(X_training,train_labels)\n",
    "#predict the outcome with the help of testing\n",
    "onev_nonlinear_predicted=onev_nonlinear.predict(X_testing)"
   ]
  },
  {
   "cell_type": "code",
   "execution_count": 40,
   "metadata": {},
   "outputs": [
    {
     "name": "stdout",
     "output_type": "stream",
     "text": [
      "[[16  0  3]\n",
      " [ 2 13  7]\n",
      " [ 0  5  8]]\n"
     ]
    }
   ],
   "source": [
    "# confusion matrix for non-linear kernel function\n",
    "confusionMatrix_nonlinear = confusion_matrix(test_labels, onev_nonlinear_predicted)\n",
    "print(confusionMatrix_nonlinear)"
   ]
  },
  {
   "cell_type": "code",
   "execution_count": 28,
   "metadata": {},
   "outputs": [
    {
     "name": "stdout",
     "output_type": "stream",
     "text": [
      "The Precision for Non-Linear support vector machine is 0.6851851851851851\n",
      "The Recall for Non-Linear  support vector machine is 0.682799656483867\n",
      "The fscore for Non-Linear  support vector machine is 0.6769979657076431\n",
      "The Support for Non-Linear  support vector machine is None\n"
     ]
    }
   ],
   "source": [
    "#to calculate non linear precision\n",
    "precision_nonlinear = precision_recall_fscore_support(test_labels, onev_nonlinear_predicted, average='macro')\n",
    "print(\"The Precision for Non-Linear support vector machine is \" + str(precision_nonlinear[0]))\n",
    "print(\"The Recall for Non-Linear  support vector machine is \" + str(precision_nonlinear[1]))\n",
    "print(\"The fscore for Non-Linear  support vector machine is \" + str(precision_nonlinear[2]))\n",
    "print(\"The Support for Non-Linear  support vector machine is \" + str(precision_nonlinear[3]))\n"
   ]
  },
  {
   "cell_type": "code",
   "execution_count": 29,
   "metadata": {},
   "outputs": [
    {
     "name": "stdout",
     "output_type": "stream",
     "text": [
      "              precision    recall  f1-score   support\n",
      "\n",
      "     class_0       0.89      0.84      0.86        19\n",
      "     class_1       0.72      0.59      0.65        22\n",
      "     class_2       0.44      0.62      0.52        13\n",
      "\n",
      "   micro avg       0.69      0.69      0.69        54\n",
      "   macro avg       0.69      0.68      0.68        54\n",
      "weighted avg       0.71      0.69      0.69        54\n",
      "\n"
     ]
    }
   ],
   "source": [
    "# to generate classification report for non linear kernel function\n",
    "print(classification_report(test_labels,onev_nonlinear_predicted, target_names=label_names))\n"
   ]
  },
  {
   "cell_type": "code",
   "execution_count": 41,
   "metadata": {},
   "outputs": [
    {
     "data": {
      "image/png": "[encoded data removed]",
      "text/plain": [
       "<Figure size 432x288 with 1 Axes>"
      ]
     },
     "metadata": {},
     "output_type": "display_data"
    }
   ],
   "source": [
    "\n",
    "# Plot Decision Region using mlxtend's awesome plotting function for non linear function\n",
    "plot_decision_regions(X=X.values, \n",
    "                      y=y.values,\n",
    "                      clf=onev_nonlinear,\n",
    "                      legend=2)\n",
    "\n",
    "# Update plot object with X/Y axis labels and Figure Title\n",
    "plt.xlabel(X.columns[0], size=14)\n",
    "plt.ylabel(X.columns[1], size=14)\n",
    "plt.title('support vector machine Decision Region Boundary for non linear kernel function', size=18)\n",
    "plt.show()\n"
   ]
  },
  {
   "cell_type": "code",
   "execution_count": 30,
   "metadata": {},
   "outputs": [
    {
     "name": "stdout",
     "output_type": "stream",
     "text": [
      "-----------------Polynomial kernel function----------------------\n"
     ]
    }
   ],
   "source": [
    "\n",
    "#Poly\n",
    "print(\"-----------------Polynomial kernel function----------------------\")\n"
   ]
  },
  {
   "cell_type": "code",
   "execution_count": 32,
   "metadata": {},
   "outputs": [],
   "source": [
    "#SVC is used for classification and regression analysis\n",
    "poly= SVC(random_state=0, kernel=\"poly\",gamma=0.0001, decision_function_shape = \"ovo\", degree = 3).fit(X_training,train_labels)\n",
    "#predict the outcome with the help of testing\n",
    "poly_predicted=poly.predict(X_testing)"
   ]
  },
  {
   "cell_type": "code",
   "execution_count": 33,
   "metadata": {},
   "outputs": [
    {
     "name": "stdout",
     "output_type": "stream",
     "text": [
      "[[16  1  2]\n",
      " [ 0 22  0]\n",
      " [ 0  0 13]]\n"
     ]
    }
   ],
   "source": [
    "# confusion matrix for poly kernel function\n",
    "confusionMatrix_onevone = confusion_matrix(test_labels,poly_predicted)\n",
    "print(confusionMatrix_onevone)\n"
   ]
  },
  {
   "cell_type": "code",
   "execution_count": 34,
   "metadata": {},
   "outputs": [
    {
     "name": "stdout",
     "output_type": "stream",
     "text": [
      "The Precision for Polynomial  support vector machine is 0.9410628019323672\n",
      "The Recall for Polynomial  support vector machine is 0.9473684210526315\n",
      "The fscore for Polynomial  support vector machine is 0.9402116402116402\n",
      "The Support for Polynomial  support vector machine is None\n"
     ]
    }
   ],
   "source": [
    "#to calculate poly precision\n",
    "precision_onevone = precision_recall_fscore_support(test_labels,poly_predicted, average='macro')\n",
    "print(\"The Precision for Polynomial  support vector machine is \" + str(precision_onevone[0]))\n",
    "print(\"The Recall for Polynomial  support vector machine is \" + str(precision_onevone[1]))\n",
    "print(\"The fscore for Polynomial  support vector machine is \" + str(precision_onevone[2]))\n",
    "print(\"The Support for Polynomial  support vector machine is \" + str(precision_onevone[3]))\n"
   ]
  },
  {
   "cell_type": "code",
   "execution_count": 35,
   "metadata": {},
   "outputs": [
    {
     "name": "stdout",
     "output_type": "stream",
     "text": [
      "              precision    recall  f1-score   support\n",
      "\n",
      "     class_0       1.00      0.84      0.91        19\n",
      "     class_1       0.96      1.00      0.98        22\n",
      "     class_2       0.87      1.00      0.93        13\n",
      "\n",
      "   micro avg       0.94      0.94      0.94        54\n",
      "   macro avg       0.94      0.95      0.94        54\n",
      "weighted avg       0.95      0.94      0.94        54\n",
      "\n"
     ]
    }
   ],
   "source": [
    "# to generate classification report for poly kernel function\n",
    "print(classification_report(test_labels,poly_predicted, target_names=label_names))"
   ]
  },
  {
   "cell_type": "code",
   "execution_count": 42,
   "metadata": {},
   "outputs": [
    {
     "data": {
      "image/png": "[encoded data removed]",
      "text/plain": [
       "<Figure size 432x288 with 1 Axes>"
      ]
     },
     "metadata": {},
     "output_type": "display_data"
    }
   ],
   "source": [
    "# Plot Decision Region using mlxtend's awesome plotting function\n",
    "plot_decision_regions(X=X.values, \n",
    "                      y=y.values,\n",
    "                      clf=poly,\n",
    "                      legend=2)\n",
    "\n",
    "# Update plot object with X/Y axis labels and Figure Title\n",
    "plt.xlabel(X.columns[0], size=14)\n",
    "plt.ylabel(X.columns[1], size=14)\n",
    "plt.title('support vector machine Decision Region Boundary for polynomial kernel function', size=18)\n",
    "plt.show()"
   ]
  },
  {
   "cell_type": "code",
   "execution_count": null,
   "metadata": {},
   "outputs": [],
   "source": []
  }
 ],
 "metadata": {
  "kernelspec": {
   "display_name": "Python 3",
   "language": "python",
   "name": "python3"
  },
  "language_info": {
   "codemirror_mode": {
    "name": "ipython",
    "version": 3
   },
   "file_extension": ".py",
   "mimetype": "text/x-python",
   "name": "python",
   "nbconvert_exporter": "python",
   "pygments_lexer": "ipython3",
   "version": "3.6.5"
  }
 },
 "nbformat": 4,
 "nbformat_minor": 1
}
